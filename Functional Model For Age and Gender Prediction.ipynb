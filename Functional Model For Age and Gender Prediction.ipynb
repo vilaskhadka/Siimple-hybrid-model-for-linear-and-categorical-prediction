{
 "cells": [
  {
   "cell_type": "code",
   "execution_count": 1,
   "id": "eba92297",
   "metadata": {},
   "outputs": [],
   "source": [
    "import os\n",
    "import random\n",
    "import cv2\n",
    "from cv2 import resize\n",
    "import numpy as np\n",
    "import pandas as pd\n",
    "from keras.preprocessing.image import ImageDataGenerator\n",
    "import matplotlib.pyplot as plt\n",
    "import seaborn as sns\n",
    "from tqdm import tqdm\n",
    "from tensorflow.keras.preprocessing import image\n",
    "from PIL import Image\n",
    "from keras.layers import *\n",
    "from keras.models import *\n",
    "from keras.callbacks import EarlyStopping\n",
    "from keras.utils import load_img\n",
    "from sklearn.preprocessing import StandardScaler"
   ]
  },
  {
   "cell_type": "code",
   "execution_count": 2,
   "id": "7134fd71",
   "metadata": {},
   "outputs": [],
   "source": [
    "path = '/Users/Dataset/Age and Gender/UTKFace'"
   ]
  },
  {
   "cell_type": "code",
   "execution_count": 3,
   "id": "c2622906",
   "metadata": {},
   "outputs": [],
   "source": [
    "age = []\n",
    "gender = []\n",
    "image =[]\n",
    "images_path = []"
   ]
  },
  {
   "cell_type": "code",
   "execution_count": 4,
   "id": "ca394113",
   "metadata": {},
   "outputs": [
    {
     "name": "stderr",
     "output_type": "stream",
     "text": [
      "100%|█████████████████████████████████| 23708/23708 [00:00<00:00, 675942.38it/s]\n"
     ]
    }
   ],
   "source": [
    "for imagename in tqdm(os.listdir(path)):\n",
    "    image_path = os.path.join(path,imagename)\n",
    "    entry = imagename.split('_')\n",
    "    age.append(int(entry[0]))\n",
    "    gender.append(int(entry[1]))\n",
    "    image.append(imagename)\n",
    "    images_path.append(image_path)"
   ]
  },
  {
   "cell_type": "code",
   "execution_count": 5,
   "id": "59df30a3",
   "metadata": {},
   "outputs": [],
   "source": [
    "df = pd.DataFrame({'Image path':images_path, 'Image':image,'Gender':gender,'Age':age})"
   ]
  },
  {
   "cell_type": "code",
   "execution_count": 6,
   "id": "b3c6e8f1",
   "metadata": {},
   "outputs": [
    {
     "data": {
      "text/plain": [
       "{1: 'Female', 0: 'Male'}"
      ]
     },
     "execution_count": 6,
     "metadata": {},
     "output_type": "execute_result"
    }
   ],
   "source": [
    "Gender_dct = {1:'Female',\n",
    "          0: 'Male'}\n",
    "Gender_dct"
   ]
  },
  {
   "cell_type": "code",
   "execution_count": 7,
   "id": "91e43bec",
   "metadata": {},
   "outputs": [
    {
     "data": {
      "text/html": [
       "<div>\n",
       "<style scoped>\n",
       "    .dataframe tbody tr th:only-of-type {\n",
       "        vertical-align: middle;\n",
       "    }\n",
       "\n",
       "    .dataframe tbody tr th {\n",
       "        vertical-align: top;\n",
       "    }\n",
       "\n",
       "    .dataframe thead th {\n",
       "        text-align: right;\n",
       "    }\n",
       "</style>\n",
       "<table border=\"1\" class=\"dataframe\">\n",
       "  <thead>\n",
       "    <tr style=\"text-align: right;\">\n",
       "      <th></th>\n",
       "      <th>Image path</th>\n",
       "      <th>Image</th>\n",
       "      <th>Gender</th>\n",
       "      <th>Age</th>\n",
       "    </tr>\n",
       "  </thead>\n",
       "  <tbody>\n",
       "    <tr>\n",
       "      <th>0</th>\n",
       "      <td>/Users/Dataset/Age and Gender/UTKFace/9_1_2_20...</td>\n",
       "      <td>9_1_2_20161219204347420.jpg.chip.jpg</td>\n",
       "      <td>1</td>\n",
       "      <td>9</td>\n",
       "    </tr>\n",
       "    <tr>\n",
       "      <th>1</th>\n",
       "      <td>/Users/Dataset/Age and Gender/UTKFace/36_0_1_2...</td>\n",
       "      <td>36_0_1_20170117163203851.jpg.chip.jpg</td>\n",
       "      <td>0</td>\n",
       "      <td>36</td>\n",
       "    </tr>\n",
       "    <tr>\n",
       "      <th>2</th>\n",
       "      <td>/Users/Dataset/Age and Gender/UTKFace/86_1_0_2...</td>\n",
       "      <td>86_1_0_20170120225751953.jpg.chip.jpg</td>\n",
       "      <td>1</td>\n",
       "      <td>86</td>\n",
       "    </tr>\n",
       "    <tr>\n",
       "      <th>3</th>\n",
       "      <td>/Users/Dataset/Age and Gender/UTKFace/26_1_0_2...</td>\n",
       "      <td>26_1_0_20170116171048641.jpg.chip.jpg</td>\n",
       "      <td>1</td>\n",
       "      <td>26</td>\n",
       "    </tr>\n",
       "    <tr>\n",
       "      <th>4</th>\n",
       "      <td>/Users/Dataset/Age and Gender/UTKFace/1_1_2_20...</td>\n",
       "      <td>1_1_2_20161219154612988.jpg.chip.jpg</td>\n",
       "      <td>1</td>\n",
       "      <td>1</td>\n",
       "    </tr>\n",
       "    <tr>\n",
       "      <th>5</th>\n",
       "      <td>/Users/Dataset/Age and Gender/UTKFace/52_0_1_2...</td>\n",
       "      <td>52_0_1_20170117161018159.jpg.chip.jpg</td>\n",
       "      <td>0</td>\n",
       "      <td>52</td>\n",
       "    </tr>\n",
       "    <tr>\n",
       "      <th>6</th>\n",
       "      <td>/Users/Dataset/Age and Gender/UTKFace/25_1_0_2...</td>\n",
       "      <td>25_1_0_20170117134403373.jpg.chip.jpg</td>\n",
       "      <td>1</td>\n",
       "      <td>25</td>\n",
       "    </tr>\n",
       "    <tr>\n",
       "      <th>7</th>\n",
       "      <td>/Users/Dataset/Age and Gender/UTKFace/16_0_0_2...</td>\n",
       "      <td>16_0_0_20170104003740977.jpg.chip.jpg</td>\n",
       "      <td>0</td>\n",
       "      <td>16</td>\n",
       "    </tr>\n",
       "    <tr>\n",
       "      <th>8</th>\n",
       "      <td>/Users/Dataset/Age and Gender/UTKFace/27_0_3_2...</td>\n",
       "      <td>27_0_3_20170119210058457.jpg.chip.jpg</td>\n",
       "      <td>0</td>\n",
       "      <td>27</td>\n",
       "    </tr>\n",
       "    <tr>\n",
       "      <th>9</th>\n",
       "      <td>/Users/Dataset/Age and Gender/UTKFace/36_0_3_2...</td>\n",
       "      <td>36_0_3_20170119180245724.jpg.chip.jpg</td>\n",
       "      <td>0</td>\n",
       "      <td>36</td>\n",
       "    </tr>\n",
       "  </tbody>\n",
       "</table>\n",
       "</div>"
      ],
      "text/plain": [
       "                                          Image path  \\\n",
       "0  /Users/Dataset/Age and Gender/UTKFace/9_1_2_20...   \n",
       "1  /Users/Dataset/Age and Gender/UTKFace/36_0_1_2...   \n",
       "2  /Users/Dataset/Age and Gender/UTKFace/86_1_0_2...   \n",
       "3  /Users/Dataset/Age and Gender/UTKFace/26_1_0_2...   \n",
       "4  /Users/Dataset/Age and Gender/UTKFace/1_1_2_20...   \n",
       "5  /Users/Dataset/Age and Gender/UTKFace/52_0_1_2...   \n",
       "6  /Users/Dataset/Age and Gender/UTKFace/25_1_0_2...   \n",
       "7  /Users/Dataset/Age and Gender/UTKFace/16_0_0_2...   \n",
       "8  /Users/Dataset/Age and Gender/UTKFace/27_0_3_2...   \n",
       "9  /Users/Dataset/Age and Gender/UTKFace/36_0_3_2...   \n",
       "\n",
       "                                   Image  Gender  Age  \n",
       "0   9_1_2_20161219204347420.jpg.chip.jpg       1    9  \n",
       "1  36_0_1_20170117163203851.jpg.chip.jpg       0   36  \n",
       "2  86_1_0_20170120225751953.jpg.chip.jpg       1   86  \n",
       "3  26_1_0_20170116171048641.jpg.chip.jpg       1   26  \n",
       "4   1_1_2_20161219154612988.jpg.chip.jpg       1    1  \n",
       "5  52_0_1_20170117161018159.jpg.chip.jpg       0   52  \n",
       "6  25_1_0_20170117134403373.jpg.chip.jpg       1   25  \n",
       "7  16_0_0_20170104003740977.jpg.chip.jpg       0   16  \n",
       "8  27_0_3_20170119210058457.jpg.chip.jpg       0   27  \n",
       "9  36_0_3_20170119180245724.jpg.chip.jpg       0   36  "
      ]
     },
     "execution_count": 7,
     "metadata": {},
     "output_type": "execute_result"
    }
   ],
   "source": [
    "df.head(10)"
   ]
  },
  {
   "cell_type": "code",
   "execution_count": 8,
   "id": "66425bf5",
   "metadata": {},
   "outputs": [
    {
     "name": "stdout",
     "output_type": "stream",
     "text": [
      "Length of Image path:  23708\n",
      "Length of Image:       23708\n",
      "Length of Gender:      23708\n",
      "Length of Age:         23708\n"
     ]
    }
   ],
   "source": [
    "print('Length of Image path: ',len(df['Image path']))\n",
    "print('Length of Image:      ',len(df['Image']))\n",
    "print('Length of Gender:     ',len(df['Gender']))      \n",
    "print('Length of Age:        ',len(df['Age']))"
   ]
  },
  {
   "cell_type": "code",
   "execution_count": 9,
   "id": "8ab80e85",
   "metadata": {},
   "outputs": [
    {
     "name": "stderr",
     "output_type": "stream",
     "text": [
      "/var/folders/c3/mcz1hw4s6qnbldhn0ss67r6r0000gn/T/ipykernel_28700/2274348601.py:2: UserWarning: \n",
      "\n",
      "`distplot` is a deprecated function and will be removed in seaborn v0.14.0.\n",
      "\n",
      "Please adapt your code to use either `displot` (a figure-level function with\n",
      "similar flexibility) or `histplot` (an axes-level function for histograms).\n",
      "\n",
      "For a guide to updating your code to use the new functions, please see\n",
      "https://gist.github.com/mwaskom/de44147ed2974457ad6372750bbe5751\n",
      "\n",
      "  sns.distplot(df['Age']);\n"
     ]
    },
    {
     "data": {
      "image/png": "[encoded data removed]",
      "text/plain": [
       "<Figure size 1500x500 with 1 Axes>"
      ]
     },
     "metadata": {},
     "output_type": "display_data"
    }
   ],
   "source": [
    "plt.figure(figsize=(15,5))\n",
    "sns.distplot(df['Age']);\n",
    "plt.title('Age Dsitribution');"
   ]
  },
  {
   "cell_type": "code",
   "execution_count": 10,
   "id": "b7007cca",
   "metadata": {},
   "outputs": [],
   "source": [
    "train_data = df.sample(frac=1, random_state=0).iloc[:18968]\n",
    "test_data = df.sample(frac=1, random_state=0).iloc[18968:]"
   ]
  },
  {
   "cell_type": "markdown",
   "id": "f4f0e5b8",
   "metadata": {},
   "source": [
    "## Feature Extraction"
   ]
  },
  {
   "cell_type": "code",
   "execution_count": 11,
   "id": "0a68e114",
   "metadata": {},
   "outputs": [],
   "source": [
    "def extract_feature(images):\n",
    "    feature=[]\n",
    "    for image in tqdm(images):\n",
    "        img = load_img(image, grayscale=True)\n",
    "        img = img.resize((100,100))\n",
    "        img = np.array(img)\n",
    "        feature.append(img)\n",
    "    feature = np.array(feature)\n",
    "    feature = feature.reshape(len(feature),100,100,1)\n",
    "    return feature\n",
    "        "
   ]
  },
  {
   "cell_type": "code",
   "execution_count": 12,
   "id": "b9bb4723",
   "metadata": {},
   "outputs": [
    {
     "name": "stderr",
     "output_type": "stream",
     "text": [
      "  0%|                                                 | 0/23708 [00:00<?, ?it/s]/Users/vilaskhadka/miniconda3/lib/python3.10/site-packages/keras/utils/image_utils.py:409: UserWarning: grayscale is deprecated. Please use color_mode = \"grayscale\"\n",
      "  warnings.warn(\n",
      "100%|███████████████████████████████████| 23708/23708 [00:19<00:00, 1187.85it/s]\n"
     ]
    }
   ],
   "source": [
    "x = extract_feature(df['Image path'])\n"
   ]
  },
  {
   "cell_type": "code",
   "execution_count": 13,
   "id": "23550e13",
   "metadata": {},
   "outputs": [
    {
     "data": {
      "text/plain": [
       "(23708, 100, 100, 1)"
      ]
     },
     "execution_count": 13,
     "metadata": {},
     "output_type": "execute_result"
    }
   ],
   "source": [
    "x.shape"
   ]
  },
  {
   "cell_type": "code",
   "execution_count": 14,
   "id": "1571e23e",
   "metadata": {},
   "outputs": [],
   "source": [
    "x=x/255"
   ]
  },
  {
   "cell_type": "code",
   "execution_count": 15,
   "id": "1a3b2417",
   "metadata": {},
   "outputs": [],
   "source": [
    "y_gender = np.array(df['Gender'])\n",
    "encoder = StandardScaler()\n",
    "y = encoder.fit_transform(df[['Age']])\n",
    "y_age = np.array(y)\n"
   ]
  },
  {
   "cell_type": "markdown",
   "id": "649fedf8",
   "metadata": {},
   "source": [
    "## Build Model\n"
   ]
  },
  {
   "cell_type": "code",
   "execution_count": 16,
   "id": "559ce671",
   "metadata": {},
   "outputs": [],
   "source": [
    "input_shape=(100,100,1)\n"
   ]
  },
  {
   "cell_type": "code",
   "execution_count": 17,
   "id": "6acde9d0",
   "metadata": {},
   "outputs": [
    {
     "name": "stdout",
     "output_type": "stream",
     "text": [
      "Metal device set to: Apple M2\n"
     ]
    }
   ],
   "source": [
    "inputs = Input((input_shape))\n",
    "conv_1 = Conv2D(filters=32, kernel_size=(3,3), activation='relu', )(inputs)\n",
    "drop_1 = Dropout(0.2)(conv_1)\n",
    "maxp_1 = MaxPooling2D(pool_size=(2,2))(drop_1)\n",
    "\n",
    "conv_2 = Conv2D(filters=64, kernel_size=(3,3), activation='relu', )(maxp_1)\n",
    "drop_2 = Dropout(0.2)(conv_2)\n",
    "maxp_2 = MaxPooling2D(pool_size=(2,2))(drop_2)\n",
    "\n",
    "conv_3 = Conv2D(filters=128, kernel_size=(3,3), activation='relu', )(maxp_2)\n",
    "drop_3 = Dropout(0.2)(conv_3)\n",
    "maxp_3 = MaxPooling2D(pool_size=(2,2))(drop_3)\n",
    "\n",
    "conv_4 = Conv2D(filters=256, kernel_size=(3,3), activation='relu', )(maxp_3)\n",
    "drop_4 = Dropout(0.2)(conv_4)\n",
    "maxp_4 = MaxPooling2D(pool_size=(2,2))(drop_4)\n",
    "\n",
    "flatten = Flatten()(maxp_4)"
   ]
  },
  {
   "cell_type": "code",
   "execution_count": 18,
   "id": "7aaaa571",
   "metadata": {},
   "outputs": [],
   "source": [
    "dens_1 = Dense(units=256, activation='relu')(flatten)\n",
    "dens_2 = Dense(units=256, activation='relu')(flatten)\n",
    "\n",
    "output_1 = Dense(units=1, activation='sigmoid', name='Gender_classification')(dens_1)  # For gender classification\n",
    "output_2 = Dense(units=1, activation='relu', name='Age')(dens_2)\n"
   ]
  },
  {
   "cell_type": "markdown",
   "id": "0380dca2",
   "metadata": {},
   "source": [
    "## Compile Model\n"
   ]
  },
  {
   "cell_type": "code",
   "execution_count": 19,
   "id": "4ffc7c80",
   "metadata": {},
   "outputs": [],
   "source": [
    "model=Model(inputs=[inputs], outputs=[output_1,output_2])\n",
    "model.compile(loss=['binary_crossentropy','mae'], optimizer='adam')\n"
   ]
  },
  {
   "cell_type": "code",
   "execution_count": 20,
   "id": "77646462",
   "metadata": {},
   "outputs": [
    {
     "name": "stdout",
     "output_type": "stream",
     "text": [
      "Model: \"model\"\n",
      "__________________________________________________________________________________________________\n",
      " Layer (type)                   Output Shape         Param #     Connected to                     \n",
      "==================================================================================================\n",
      " input_1 (InputLayer)           [(None, 100, 100, 1  0           []                               \n",
      "                                )]                                                                \n",
      "                                                                                                  \n",
      " conv2d (Conv2D)                (None, 98, 98, 32)   320         ['input_1[0][0]']                \n",
      "                                                                                                  \n",
      " dropout (Dropout)              (None, 98, 98, 32)   0           ['conv2d[0][0]']                 \n",
      "                                                                                                  \n",
      " max_pooling2d (MaxPooling2D)   (None, 49, 49, 32)   0           ['dropout[0][0]']                \n",
      "                                                                                                  \n",
      " conv2d_1 (Conv2D)              (None, 47, 47, 64)   18496       ['max_pooling2d[0][0]']          \n",
      "                                                                                                  \n",
      " dropout_1 (Dropout)            (None, 47, 47, 64)   0           ['conv2d_1[0][0]']               \n",
      "                                                                                                  \n",
      " max_pooling2d_1 (MaxPooling2D)  (None, 23, 23, 64)  0           ['dropout_1[0][0]']              \n",
      "                                                                                                  \n",
      " conv2d_2 (Conv2D)              (None, 21, 21, 128)  73856       ['max_pooling2d_1[0][0]']        \n",
      "                                                                                                  \n",
      " dropout_2 (Dropout)            (None, 21, 21, 128)  0           ['conv2d_2[0][0]']               \n",
      "                                                                                                  \n",
      " max_pooling2d_2 (MaxPooling2D)  (None, 10, 10, 128)  0          ['dropout_2[0][0]']              \n",
      "                                                                                                  \n",
      " conv2d_3 (Conv2D)              (None, 8, 8, 256)    295168      ['max_pooling2d_2[0][0]']        \n",
      "                                                                                                  \n",
      " dropout_3 (Dropout)            (None, 8, 8, 256)    0           ['conv2d_3[0][0]']               \n",
      "                                                                                                  \n",
      " max_pooling2d_3 (MaxPooling2D)  (None, 4, 4, 256)   0           ['dropout_3[0][0]']              \n",
      "                                                                                                  \n",
      " flatten (Flatten)              (None, 4096)         0           ['max_pooling2d_3[0][0]']        \n",
      "                                                                                                  \n",
      " dense (Dense)                  (None, 256)          1048832     ['flatten[0][0]']                \n",
      "                                                                                                  \n",
      " dense_1 (Dense)                (None, 256)          1048832     ['flatten[0][0]']                \n",
      "                                                                                                  \n",
      " Gender_classification (Dense)  (None, 1)            257         ['dense[0][0]']                  \n",
      "                                                                                                  \n",
      " Age (Dense)                    (None, 1)            257         ['dense_1[0][0]']                \n",
      "                                                                                                  \n",
      "==================================================================================================\n",
      "Total params: 2,486,018\n",
      "Trainable params: 2,486,018\n",
      "Non-trainable params: 0\n",
      "__________________________________________________________________________________________________\n"
     ]
    }
   ],
   "source": [
    "model.summary()\n"
   ]
  },
  {
   "cell_type": "code",
   "execution_count": 21,
   "id": "770f6e77",
   "metadata": {},
   "outputs": [],
   "source": [
    "ess = EarlyStopping(monitor='loss', patience=5)\n"
   ]
  },
  {
   "cell_type": "code",
   "execution_count": null,
   "id": "f45ac885",
   "metadata": {},
   "outputs": [
    {
     "name": "stdout",
     "output_type": "stream",
     "text": [
      "Epoch 1/100\n"
     ]
    },
    {
     "name": "stderr",
     "output_type": "stream",
     "text": [
      "2023-07-16 00:39:28.821215: W tensorflow/tsl/platform/profile_utils/cpu_utils.cc:128] Failed to get CPU frequency: 0 Hz\n"
     ]
    },
    {
     "name": "stdout",
     "output_type": "stream",
     "text": [
      "593/593 [==============================] - 49s 76ms/step - loss: 1.2597 - Gender_classification_loss: 0.4918 - Age_loss: 0.7679 - val_loss: 1.2021 - val_Gender_classification_loss: 0.4138 - val_Age_loss: 0.7882\n",
      "Epoch 2/100\n",
      "593/593 [==============================] - 46s 78ms/step - loss: 1.0993 - Gender_classification_loss: 0.3315 - Age_loss: 0.7678 - val_loss: 1.1171 - val_Gender_classification_loss: 0.3289 - val_Age_loss: 0.7882\n",
      "Epoch 3/100\n",
      "593/593 [==============================] - 46s 78ms/step - loss: 1.0639 - Gender_classification_loss: 0.2961 - Age_loss: 0.7678 - val_loss: 1.1051 - val_Gender_classification_loss: 0.3169 - val_Age_loss: 0.7882\n",
      "Epoch 4/100\n",
      "593/593 [==============================] - 47s 78ms/step - loss: 1.0343 - Gender_classification_loss: 0.2665 - Age_loss: 0.7678 - val_loss: 1.0994 - val_Gender_classification_loss: 0.3112 - val_Age_loss: 0.7882\n",
      "Epoch 5/100\n",
      " 18/593 [..............................] - ETA: 40s - loss: 1.0240 - Gender_classification_loss: 0.2486 - Age_loss: 0.7754"
     ]
    }
   ],
   "source": [
    "history = model.fit(x=x, y=[y_gender,y_age], epochs=100, callbacks=[ess],validation_split=0.2)\n"
   ]
  },
  {
   "cell_type": "markdown",
   "id": "680a234a",
   "metadata": {},
   "source": []
  },
  {
   "cell_type": "code",
   "execution_count": null,
   "id": "8b8bcf03",
   "metadata": {},
   "outputs": [],
   "source": [
    "plt.plot(history.history['Gender_classification_accuracy'],label='Model accuracy')\n",
    "plt.plot(history.history['val_Gender_classification_accuracy'], label='Validation accuracy')\n",
    "plt.legend()\n",
    "plt.show();"
   ]
  },
  {
   "cell_type": "code",
   "execution_count": null,
   "id": "3289eb05",
   "metadata": {},
   "outputs": [],
   "source": [
    "plt.plot(history.history['loss'],label='Model loss')\n",
    "plt.plot(history.history['val_loss'], label='Validation loss')\n",
    "plt.legend()\n",
    "plt.show();\n"
   ]
  },
  {
   "cell_type": "code",
   "execution_count": null,
   "id": "a88ec8ed",
   "metadata": {},
   "outputs": [],
   "source": [
    "def extract_feature(images):\n",
    "    feature=[]\n",
    "    for image in tqdm(images):\n",
    "        img = load_img(image, grayscale=True)\n",
    "        img = img.resize((100,100))\n",
    "        img = np.array(img)\n",
    "        feature.append(img)\n",
    "    feature = np.array(feature)\n",
    "    feature = feature.reshape(len(feature),100,100,1)\n",
    "    return feature"
   ]
  },
  {
   "cell_type": "code",
   "execution_count": null,
   "id": "e6653cbf",
   "metadata": {},
   "outputs": [],
   "source": [
    "img = '/Users/Dataset/Age and Gender/test.png'\n",
    "img = load_img(img, grayscale=True)\n",
    "image = img.resize((100,100))\n",
    "image = np.array(image)\n",
    "image = image.reshape(1,100,100,1)\n"
   ]
  },
  {
   "cell_type": "code",
   "execution_count": null,
   "id": "1d0b123a",
   "metadata": {},
   "outputs": [],
   "source": [
    "image_pred = model.predict(image)\n",
    "predict_gender = Gender_dct[round(image_pred[0][0][0])]\n",
    "pred_age = round(image_pred[1][0][0])\n",
    "print(\"\\n predicted Gender: \",predict_gender, '\\n Predicted Age:    ',pred_age)\n",
    "plt.imshow(img);"
   ]
  },
  {
   "cell_type": "code",
   "execution_count": null,
   "id": "259a750b",
   "metadata": {},
   "outputs": [],
   "source": [
    "len(image_pred)"
   ]
  },
  {
   "cell_type": "code",
   "execution_count": null,
   "id": "f7d7aae4",
   "metadata": {},
   "outputs": [],
   "source": [
    "image_pred[0]"
   ]
  },
  {
   "cell_type": "code",
   "execution_count": null,
   "id": "3598eb02",
   "metadata": {},
   "outputs": [],
   "source": [
    "image_pred[1]"
   ]
  },
  {
   "cell_type": "code",
   "execution_count": null,
   "id": "1eb8077e",
   "metadata": {},
   "outputs": [],
   "source": []
  }
 ],
 "metadata": {
  "kernelspec": {
   "display_name": "Python 3 (ipykernel)",
   "language": "python",
   "name": "python3"
  },
  "language_info": {
   "codemirror_mode": {
    "name": "ipython",
    "version": 3
   },
   "file_extension": ".py",
   "mimetype": "text/x-python",
   "name": "python",
   "nbconvert_exporter": "python",
   "pygments_lexer": "ipython3",
   "version": "3.10.10"
  }
 },
 "nbformat": 4,
 "nbformat_minor": 5
}
